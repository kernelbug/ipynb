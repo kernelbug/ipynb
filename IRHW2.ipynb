{
 "metadata": {
  "name": "",
  "signature": "sha256:1ab8144ea120571564ce3057fce3a476850cc9a813c112a2c1a97e5bd3b5a0e3"
 },
 "nbformat": 3,
 "nbformat_minor": 0,
 "worksheets": [
  {
   "cells": [
    {
     "cell_type": "code",
     "collapsed": false,
     "input": [
      "from collections import Counter\n",
      "import os.path\n",
      "import re\n",
      "import hashlib\n",
      "import time\n",
      "import random\n",
      "import pandas as pd\n",
      "import matplotlib.pyplot as plt"
     ],
     "language": "python",
     "metadata": {},
     "outputs": [],
     "prompt_number": 161
    },
    {
     "cell_type": "code",
     "collapsed": false,
     "input": [
      "SIMHASH_LENGTH = 64\n",
      "SIZE_DEVIATION = 1.2\n",
      "ENCODING = 'utf-8'\n",
      "DUMP_PATH = os.path.join('.', 'docs')\n",
      "URL_MAP_PATH = os.path.join(DUMP_PATH, 'url.map')\n",
      "STOPWORD_FILE_PATH = os.path.join(DUMP_PATH, 'stopword.txt')"
     ],
     "language": "python",
     "metadata": {},
     "outputs": [],
     "prompt_number": 116
    },
    {
     "cell_type": "heading",
     "level": 2,
     "metadata": {},
     "source": [
      "\u041e\u043f\u0440\u0435\u0434\u0435\u043b\u0435\u043d\u0438\u044f"
     ]
    },
    {
     "cell_type": "markdown",
     "metadata": {},
     "source": [
      "\u0424\u0430\u0431\u0440\u0438\u043a\u0430 **DocumentFactory** \u043d\u0443\u0436\u043d\u0430 \u0434\u043b\u044f \u0442\u043e\u0433\u043e, \u0447\u0442\u043e\u0431\u044b \u0437\u0430\u0434\u0430\u0442\u044c \u043d\u0435\u043a\u043e\u0442\u043e\u0440\u044b\u0435 \u043c\u0435\u0442\u0430\u043f\u0430\u0440\u0430\u043c\u0435\u0442\u0440\u044b, \u0442\u0430\u043a\u0438\u0435 \u043a\u0430\u043a \u0440\u0430\u0437\u043c\u0435\u0440 \u0441\u0438\u043c\u0445\u0435\u0448\u0430 \u0438 \u0441\u043f\u0438\u0441\u043e\u043a \u0441\u0442\u043e\u043f-\u0441\u043b\u043e\u0432, \u0434\u043b\u044f \u043f\u043e\u0441\u0442\u0440\u043e\u0435\u043d\u0438\u044f **_Document**'\u0430 - \u0441\u0442\u0440\u0443\u043a\u0442\u0443\u0440\u044b, \u0441\u043e\u0434\u0435\u0440\u0436\u0430\u0449\u0435\u0439 \u0432\u0441\u0435 \u043d\u0443\u0436\u043d\u044b\u0435 \u043d\u0430\u043c \u0434\u0430\u043d\u043d\u044b\u0435.\n",
      "\n",
      "\u0414\u0430, \u044f \u0440\u0435\u0448\u0438\u043b \u0438\u0441\u043f\u043e\u043b\u044c\u0437\u043e\u0432\u0430\u0442\u044c \u043f\u0440\u043e\u0441\u0442\u0435\u0439\u0448\u0435\u0435 \u0432\u0437\u0432\u0435\u0448\u0438\u0432\u0430\u043d\u0438\u0435 \u0444\u0438\u0447\u0435\u0439 \u043f\u0440\u0438 \u043f\u043e\u0441\u0442\u0440\u043e\u0435\u043d\u0438\u0438 \u0441\u0438\u043c\u0445\u0435\u0448\u0430: \u0442\u0430\u043a\u0438\u0435 \u0447\u0430\u0441\u0442\u043e\u0442\u043d\u044b\u0435 \u0441\u043b\u0443\u0436\u0435\u0431\u043d\u044b\u0435 \u0441\u043b\u043e\u0432\u0430 \u0432 \u0430\u043d\u0433\u043b\u0438\u0439\u0441\u043a\u043e\u043c, \u043a\u0430\u043a \"a\", \"the\" \u0438 \u0442.\u043f. \u0431\u0443\u0434\u0443\u0442 \u0441\u0442\u043e\u0438\u0442\u044c \u0432 \u0442\u0440\u0438 \u0440\u0430\u0437\u0430 \u043c\u0435\u043d\u044c\u0448\u0435 \u0447\u0435\u043c \u043e\u0431\u044b\u0447\u043d\u044b\u0435 \u0441\u043b\u043e\u0432\u0430.\n",
      "\u0421\u0438\u043c\u0445\u0435\u0448 \u0441\u0442\u0440\u043e\u0438\u0442\u0441\u044f \u0441\u043b\u0435\u0434\u0443\u044e\u0449\u0438\u043c \u043e\u0431\u0440\u0430\u0437\u043e\u043c: \u043e\u0442 \u043e\u0447\u0435\u0440\u0435\u0434\u043d\u043e\u0433\u043e \u0441\u043b\u043e\u0432\u0430 \u0438\u0437 \u043c\u0435\u0448\u043a\u0430 \u0431\u0435\u0440\u0435\u0442\u0441\u044f MD5, \u0443\u0440\u0435\u0437\u0430\u0435\u0442\u0441\u044f \u0434\u0435\u043b\u0435\u043d\u0438\u0435\u043c \u043f\u043e \u043c\u043e\u0434\u0443\u043b\u044e \u0447\u0442\u043e\u0431\u044b \u0432\u043b\u0435\u0437\u0442\u044c \u0432 64 \u0431\u0438\u0442\u0430, \u0434\u0430\u043b\u044c\u0448\u0435 \u0438\u0434\u0435\u043c \u043f\u043e \u0431\u0438\u0442\u0430\u043c \"\u043d\u043e\u0440\u043c\u0430\u043b\u0438\u0437\u043e\u0432\u0430\u043d\u043d\u043e\u0433\u043e\" \u0445\u0435\u0448\u0430 \u0438 \u0432 \u0441\u043e\u043e\u0442\u0432\u0435\u0442\u0441\u0442\u0432\u0443\u0431\u0448\u0438\u0435 \u043f\u043e\u0437\u0438\u0446\u0438\u0438 \u0441\u0438\u043c\u0445\u0435\u0448\u0430 \u043f\u0440\u0438\u0431\u0430\u0432\u043b\u044f\u0435\u043c/\u0432\u044b\u0447\u0438\u0442\u0430\u0435\u043c \u043f\u0440\u043e\u0438\u0437\u0432\u0435\u0434\u0435\u043d\u0438\u0435 \u0432\u0435\u0441\u0430 \u043d\u0430 \u0447\u0430\u0441\u0442\u043e\u0442\u0443 \u0441\u043b\u043e\u0432\u0430 \u0432 \u0434\u043e\u043a\u0443\u043c\u0435\u043d\u0442\u0435 \u0432 \u0437\u0430\u0432\u0438\u0441\u0438\u043c\u043e\u0441\u0442\u0438 \u043e\u0442 \u0442\u043e\u0433\u043e \u0440\u0430\u0432\u0435\u043d \u0431\u0438\u0442 \u0435\u0434\u0438\u043d\u0438\u0446\u0435 \u0438\u043b\u0438 \u043d\u0435\u0442."
     ]
    },
    {
     "cell_type": "code",
     "collapsed": false,
     "input": [
      "class DocumentFactory:\n",
      "    class _Document:\n",
      "        def __init__(self, id_, link, length, simhash):\n",
      "            self.id_ = id_\n",
      "            self.link = link\n",
      "            self.length = length\n",
      "            self.simhash = simhash\n",
      "            \n",
      "        def __lt__(self, other):\n",
      "            return self.length < other.length or self.link < other.link or self.id_ < other.id_\n",
      "        \n",
      "        def __eq__(self ,other):\n",
      "            return self.id_ == other.id_\n",
      "        \n",
      "        def __hash__(self):\n",
      "            return hash(self.id_)\n",
      "        \n",
      "    _WORD_SPLIT_PATTERN = re.compile('\\W+')\n",
      "    \n",
      "    def __init__(self, simhashLength, stopWords):\n",
      "        self._hashSupremum = 2 ** simhashLength\n",
      "        self._stopWords = stopWords\n",
      "        \n",
      "    def calculate_simhash(self, tokensCounter):\n",
      "        simhash = [0] * SIMHASH_LENGTH\n",
      "        for token, tokenCount in tokensCounter.items():\n",
      "            tokenHash = int.from_bytes(hashlib.md5(token.encode(ENCODING)).digest(), byteorder='little', signed=False) % self._hashSupremum + self._hashSupremum\n",
      "            for bitIndex, bit in enumerate((digit == '1' for digit in bin(tokenHash)[3:])):\n",
      "                simhash[bitIndex] += (1 if bit else -1) * (1 if token in self._stopWords else 3) * tokenCount\n",
      "        return tuple(counter > 0 for counter in simhash)\n",
      "    \n",
      "    def create_document(self, id_, link, content):\n",
      "        tokens = [token.lower() for token in re.split(self._WORD_SPLIT_PATTERN, content) if token]\n",
      "        return DocumentFactory._Document(id_, link, len(tokens), self.calculate_simhash(Counter(tokens)))"
     ],
     "language": "python",
     "metadata": {},
     "outputs": [],
     "prompt_number": 117
    },
    {
     "cell_type": "markdown",
     "metadata": {},
     "source": [
      "\u0412\u0432\u0435\u0434\u0435\u043c \u0431\u043e\u0440 \u043d\u0430 \u0441\u0438\u043c\u0445\u0435\u0448\u0430\u0445 \u0434\u043b\u044f \u0431\u044b\u0441\u0442\u0440\u043e\u0433\u043e \u043f\u043e\u0438\u0441\u043a\u0430 \u043f\u043e\u043b\u0443\u0434\u0443\u0431\u043b\u0435\u0439"
     ]
    },
    {
     "cell_type": "code",
     "collapsed": false,
     "input": [
      "class Trie:\n",
      "    class Node:\n",
      "        def __init__(self):\n",
      "            self.nodes = [None, None]\n",
      "            \n",
      "    def __init__(self):\n",
      "        self.root = Trie.Node()\n",
      "        \n",
      "    def add(self, doc):\n",
      "        node = self.root\n",
      "        for bit in doc.simhash:\n",
      "            if node.nodes[bit] is None:\n",
      "                node.nodes[bit] = Trie.Node()\n",
      "            node = node.nodes[bit]\n",
      "        try:\n",
      "            node.docs.append(doc)\n",
      "        except AttributeError:\n",
      "            node.docs = [doc]\n",
      "    \n",
      "    @staticmethod\n",
      "    def _get(node, simhash, index, penalty, maxPenalty):\n",
      "        if node is None or penalty == maxPenalty:\n",
      "            return []\n",
      "        if index == len(simhash):\n",
      "            return node.docs\n",
      "        simhashBit = simhash[index]\n",
      "        return (Trie._get(node.nodes[False], simhash, index + 1, penalty + simhashBit, maxPenalty)\n",
      "                + Trie._get(node.nodes[True], simhash, index + 1, penalty + (not simhashBit), maxPenalty))\n",
      "    \n",
      "    def get(self, simhash, penalty):\n",
      "        return Trie._get(self.root, simhash, 0, 0, penalty)"
     ],
     "language": "python",
     "metadata": {},
     "outputs": [],
     "prompt_number": 118
    },
    {
     "cell_type": "markdown",
     "metadata": {},
     "source": [
      "\u041a\u043b\u0430\u0441\u0442\u0435\u0440\u0430 \u043f\u043e\u043b\u0443\u0434\u0443\u0431\u043b\u0435\u0439 \u044f \u0440\u0435\u0448\u0438\u043b \u043f\u043e\u043f\u0440\u043e\u0431\u043e\u0432\u0430\u0442\u044c \u0441\u0442\u0440\u043e\u0438\u0442\u044c \u0434\u043e\u0432\u043e\u043b\u044c\u043d\u043e \u0437\u0430\u0431\u0430\u0432\u043d\u044b\u043c (\u043d\u0430 \u043c\u043e\u0439 \u0432\u0437\u0433\u043b\u044f\u0434) \u0441\u043f\u043e\u0441\u043e\u0431\u043e\u043c: \n",
      "  * \u043f\u0440\u0438 \u0432\u044b\u0431\u043e\u0440\u0435 \u0433\u043b\u0430\u0432\u043d\u043e\u0433\u043e \u0434\u043e\u043a\u0443\u043c\u0435\u043d\u0442\u0430 \u043f\u0440\u0435\u0434\u043f\u043e\u0447\u0442\u0435\u043d\u0438\u0435 \u0432\u0441\u0435\u0433\u0434\u0430 \u0431\u0443\u0434\u0435\u0442 \u043e\u0442\u0434\u0430\u0432\u0430\u0442\u044c\u0441\u044f \u0434\u043e\u043a\u0443\u043c\u0435\u043d\u0442\u0443 \u0441 \u043c\u0435\u043d\u044c\u0448\u0435\u0439 \u0434\u043b\u0438\u043d\u043e\u0439\n",
      "  * \u0431\u0443\u0434\u0435\u043c \u0441\u0447\u0438\u0442\u0430\u0442\u044c, \u0447\u0442\u043e \u043e\u0442\u043d\u043e\u0448\u0435\u043d\u0438\u0435 \u043f\u043e\u043b\u0443\u0434\u0443\u0431\u043b\u0438\u043a\u0430\u0442\u0430 \u0442\u0440\u0430\u043d\u0437\u0438\u0442\u0438\u0432\u043d\u043e\n",
      "  * \u0432 \u0441\u0438\u0442\u0443\u0430\u0446\u0438\u0438, \u043a\u043e\u0433\u0434\u0430 \u043e\u0447\u0435\u0440\u0435\u0434\u043d\u043e\u0439 \u0434\u043e\u043a\u0443\u043c\u0435\u043d\u0442 \u0432\u043e\u0448\u0435\u043b \u0441\u0440\u0430\u0437\u0443 \u0432 \u043d\u0435\u0441\u043a\u043e\u043b\u044c\u043a\u043e \u043a\u043b\u0430\u0441\u0442\u0435\u0440\u043e\u0432, \u043f\u0440\u0435\u0434\u043b\u0430\u0433\u0430\u0435\u0442\u0441\u044f \u0432\u0441\u0435 \u044d\u0442\u0438 \u043a\u043b\u0430\u0441\u0442\u0435\u0440\u0430 \u0441\u043a\u043b\u0435\u0438\u0442\u044c \u0432 \u043e\u0434\u0438\u043d \u0431\u043e\u043b\u044c\u0448\u043e\u0439 \u043a\u043b\u0430\u0441\u0442\u0435\u0440"
     ]
    },
    {
     "cell_type": "code",
     "collapsed": false,
     "input": [
      "class Clusterizer:\n",
      "    class Cluster:\n",
      "        def __init__(self, master):\n",
      "            self.master = master\n",
      "            self.slaves = {master}\n",
      "    \n",
      "    def __init__(self, docs):\n",
      "        self.clusters = {}\n",
      "        for doc in docs:\n",
      "            self.clusters[doc] = Clusterizer.Cluster(doc)\n",
      "    \n",
      "    def merge(self, firstDoc, secondDoc):\n",
      "        master, slave = (firstDoc, secondDoc) if self.clusters[firstDoc].master < self.clusters[secondDoc].master else (secondDoc, firstDoc)\n",
      "        masterCluster, slaveCluster = self.clusters[master], self.clusters[slave]\n",
      "\n",
      "        slaveCluster.master = master\n",
      "        for slave in slaveCluster.slaves:\n",
      "            self.clusters[slave].master = master\n",
      "        masterCluster.slaves |= slaveCluster.slaves\n",
      "        slaveCluster.slaves.clear()\n",
      "        \n",
      "    def iter_clusters(self):\n",
      "        for doc, cluster in self.clusters.items():\n",
      "            if cluster.master == doc:\n",
      "                yield cluster\n",
      "            \n",
      "    def get_clusters(self):\n",
      "        return [cluster for cluster in self.iter_clusters()]"
     ],
     "language": "python",
     "metadata": {},
     "outputs": [],
     "prompt_number": 119
    },
    {
     "cell_type": "code",
     "collapsed": false,
     "input": [
      "def clusterize(docs, trie, distance):\n",
      "    clusterizer = Clusterizer(docs)\n",
      "    for doc in docs:\n",
      "        docs_ = trie.get(doc.simhash, distance)\n",
      "        for doc_ in docs_:\n",
      "            smallDoc, bigDoc = (doc_, doc) if doc_ < doc else (doc, doc_)\n",
      "            if bigDoc.length < smallDoc.length * SIZE_DEVIATION:\n",
      "                clusterizer.merge(smallDoc, bigDoc)\n",
      "    return clusterizer.get_clusters()"
     ],
     "language": "python",
     "metadata": {},
     "outputs": [],
     "prompt_number": 120
    },
    {
     "cell_type": "heading",
     "level": 2,
     "metadata": {},
     "source": [
      "\u041f\u043e\u0434\u0441\u0447\u0435\u0442 \u0432\u0441\u0435\u0433\u043e \u044d\u0442\u043e\u0433\u043e \u0434\u0435\u043b\u0430"
     ]
    },
    {
     "cell_type": "markdown",
     "metadata": {},
     "source": [
      "\u0417\u0430\u0433\u0440\u0443\u0437\u043a\u0430 \u0434\u043e\u043a\u0443\u043c\u0435\u043d\u0442\u043e\u0432 \u0441 \u043f\u043e\u0434\u0441\u0447\u0435\u0442\u043e\u043c \u0441\u0438\u043c\u0445\u0435\u0448\u0435\u0439.\n",
      "\n",
      "**_docs** - \u0441\u043f\u0438\u0441\u043e\u043a \u0434\u043e\u043a\u0443\u043c\u0435\u043d\u0442\u043e\u0432"
     ]
    },
    {
     "cell_type": "code",
     "collapsed": false,
     "input": [
      "_docs = []\n",
      "\n",
      "with open(STOPWORD_FILE_PATH) as stopWordFile:\n",
      "    docFactory = DocumentFactory(SIMHASH_LENGTH, {line.strip().lower() for line in stopWordFile})\n",
      "\n",
      "with open(URL_MAP_PATH) as urlMapFile:\n",
      "    for line in urlMapFile:\n",
      "        fileName, link = line.strip().split('\\t')\n",
      "        id_, _ = os.path.splitext(fileName)\n",
      "        with open(os.path.join(DUMP_PATH, id_ + '.txt')) as contentFile:\n",
      "            _docs.append(docFactory.create_document(int(id_), link, contentFile.read()))\n",
      "            \n",
      "print('Documents:', len(_docs))\n",
      "%time"
     ],
     "language": "python",
     "metadata": {},
     "outputs": [
      {
       "output_type": "stream",
       "stream": "stdout",
       "text": [
        "Documents: 90604\n",
        "CPU times: user 3 \u00b5s, sys: 0 ns, total: 3 \u00b5s\n",
        "Wall time: 5.72 \u00b5s\n"
       ]
      }
     ],
     "prompt_number": 121
    },
    {
     "cell_type": "markdown",
     "metadata": {},
     "source": [
      "\u041e\u0442\u0441\u043e\u0440\u0442\u0438\u0440\u0443\u0435\u043c \u0434\u043e\u043a\u0443\u043c\u0435\u043d\u0442\u044b \u043f\u043e \u0432\u043e\u0437\u0440\u0430\u0441\u0442\u0430\u043d\u0438\u044e \u0434\u043b\u0438\u043d, \u0438\u0437\u043c\u0435\u0440\u044f\u0435\u043c\u044b\u0445 \u0432 \u0441\u043b\u043e\u0432\u0430\u0445, \u043f\u043e \u0438\u0434\u0435\u0435, \u044d\u0442\u043e \u0434\u043e\u043b\u0436\u043d\u043e \u0441\u043e\u043f\u0442\u0438\u043c\u0438\u0437\u0438\u0440\u043e\u0432\u0430\u0442\u044c \u0440\u0430\u0431\u043e\u0442\u0443 \u0444\u0443\u043d\u043a\u0446\u0438\u0438 **Clusterizer::merge**, \u0442.\u043a. \u043a\u043e\u0440\u043e\u0442\u043a\u0438\u0435 \u0434\u043e\u043a\u0443\u043c\u0435\u043d\u0442\u044b \u0431\u0443\u0434\u0443\u0442 \u043f\u0435\u0440\u0432\u044b\u043c\u0438 \u043e\u0431\u0440\u0430\u0437\u043e\u0432\u044b\u0432\u0430\u0442\u044c \u043a\u043b\u0430\u0441\u0442\u0435\u0440\u0430, \u0430 \u0437\u0430\u0442\u0435\u043c \u0443\u0436\u0435 \u0434\u043b\u0438\u043d\u043d\u044b\u0435 \u043a \u043d\u0438\u043c \u043f\u0440\u0438\u0441\u043e\u0435\u0434\u0438\u043d\u044f\u0442\u044c\u0441\u044f, \u044d\u0442\u043e \u0438\u0437\u0431\u0430\u0432\u0438\u0442 \u043e\u0442 \u043d\u0435\u043e\u0431\u0445\u043e\u0434\u0438\u043c\u043e\u0441\u0442\u0438 \u0442\u0443\u0434\u0430-\u0441\u044e\u0434\u0430 \u0433\u043e\u043d\u044f\u0442\u044c \u043f\u043e\u0434\u0447\u0438\u043d\u0435\u043d\u043d\u044b\u0435 \u0434\u043e\u043a\u0443\u043c\u0435\u043d\u0442\u044b"
     ]
    },
    {
     "cell_type": "code",
     "collapsed": false,
     "input": [
      "_docs.sort()\n",
      "\n",
      "%time"
     ],
     "language": "python",
     "metadata": {},
     "outputs": [
      {
       "output_type": "stream",
       "stream": "stdout",
       "text": [
        "CPU times: user 3 \u00b5s, sys: 0 ns, total: 3 \u00b5s\n",
        "Wall time: 5.48 \u00b5s\n"
       ]
      }
     ],
     "prompt_number": 122
    },
    {
     "cell_type": "markdown",
     "metadata": {},
     "source": [
      "\u041f\u043e\u0441\u0442\u0440\u043e\u0438\u043c \u0431\u043e\u0440"
     ]
    },
    {
     "cell_type": "code",
     "collapsed": false,
     "input": [
      "_trie = Trie()\n",
      "for doc in _docs:\n",
      "    _trie.add(doc)\n",
      "    \n",
      "%time"
     ],
     "language": "python",
     "metadata": {},
     "outputs": [
      {
       "output_type": "stream",
       "stream": "stdout",
       "text": [
        "CPU times: user 3 \u00b5s, sys: 0 ns, total: 3 \u00b5s\n",
        "Wall time: 5.96 \u00b5s\n"
       ]
      }
     ],
     "prompt_number": 123
    },
    {
     "cell_type": "heading",
     "level": 2,
     "metadata": {},
     "source": [
      "\u0412\u0438\u0437\u0443\u0430\u043b\u0438\u0437\u0430\u0446\u0438\u044f"
     ]
    },
    {
     "cell_type": "code",
     "collapsed": false,
     "input": [
      "def histogram(data, xLabel, yLabel, title, log=False):\n",
      "    plt.hist(data, 50, facecolor='green', alpha=0.75)\n",
      "\n",
      "    if log:\n",
      "        plt.gca().set_xscale('log')\n",
      "        plt.gca().set_yscale('log')\n",
      "    plt.grid(True)\n",
      "    plt.xlabel(xLabel)\n",
      "    plt.ylabel(yLabel)\n",
      "    plt.title(title)\n",
      "\n",
      "    plt.show()"
     ],
     "language": "python",
     "metadata": {},
     "outputs": [],
     "prompt_number": 124
    },
    {
     "cell_type": "code",
     "collapsed": false,
     "input": [
      "def top(clusters, top):\n",
      "    topClusters = clusters[:top]\n",
      "    return pd.DataFrame.from_dict({'URL': [cluster.master.link for cluster in topClusters], 'Size': [len(cluster.slaves) for cluster in topClusters]})"
     ],
     "language": "python",
     "metadata": {},
     "outputs": [],
     "prompt_number": 125
    },
    {
     "cell_type": "heading",
     "level": 4,
     "metadata": {},
     "source": [
      "n = 5"
     ]
    },
    {
     "cell_type": "code",
     "collapsed": false,
     "input": [
      "_clusters5 = clusterize(_docs, _trie, 5)\n",
      "_clusters5.sort(key=lambda cluster: len(cluster.slaves), reverse=True)\n",
      "\n",
      "%time"
     ],
     "language": "python",
     "metadata": {},
     "outputs": [
      {
       "output_type": "stream",
       "stream": "stdout",
       "text": [
        "CPU times: user 2 \u00b5s, sys: 0 ns, total: 2 \u00b5s\n",
        "Wall time: 5.96 \u00b5s\n"
       ]
      }
     ],
     "prompt_number": 130
    },
    {
     "cell_type": "code",
     "collapsed": false,
     "input": [
      "histogram([len(cluster.slaves) for cluster in _clusters5], 'Cluster size', 'Clusters', 'Cluster size distribution')"
     ],
     "language": "python",
     "metadata": {},
     "outputs": [
      {
       "metadata": {},
       "output_type": "display_data",
       "png": "[encoded data removed]",
       "text": [
        "<matplotlib.figure.Figure at 0x7fede2e71f60>"
       ]
      }
     ],
     "prompt_number": 131
    },
    {
     "cell_type": "code",
     "collapsed": false,
     "input": [
      "histogram([len(cluster.slaves) for cluster in _clusters5], 'Cluster size', 'Clusters', 'Cluster size distribution (Log)', log=True)"
     ],
     "language": "python",
     "metadata": {},
     "outputs": [
      {
       "metadata": {},
       "output_type": "display_data",
       "png": "[encoded data removed]",
       "text": [
        "<matplotlib.figure.Figure at 0x7fee18737278>"
       ]
      }
     ],
     "prompt_number": 132
    },
    {
     "cell_type": "code",
     "collapsed": false,
     "input": [
      "top(_clusters5, 10)"
     ],
     "language": "python",
     "metadata": {},
     "outputs": [
      {
       "html": [
        "<div style=\"max-height:1000px;max-width:1500px;overflow:auto;\">\n",
        "<table border=\"1\" class=\"dataframe\">\n",
        "  <thead>\n",
        "    <tr style=\"text-align: right;\">\n",
        "      <th></th>\n",
        "      <th>Size</th>\n",
        "      <th>URL</th>\n",
        "    </tr>\n",
        "  </thead>\n",
        "  <tbody>\n",
        "    <tr>\n",
        "      <th>0</th>\n",
        "      <td> 101</td>\n",
        "      <td>   https://simple.wikipedia.org/wiki/List_of_popes</td>\n",
        "    </tr>\n",
        "    <tr>\n",
        "      <th>1</th>\n",
        "      <td>  36</td>\n",
        "      <td>       https://simple.wikipedia.org/wiki/Arthedain</td>\n",
        "    </tr>\n",
        "    <tr>\n",
        "      <th>2</th>\n",
        "      <td>  14</td>\n",
        "      <td>         https://simple.wikipedia.org/wiki/Aragorn</td>\n",
        "    </tr>\n",
        "    <tr>\n",
        "      <th>3</th>\n",
        "      <td>  12</td>\n",
        "      <td>    https://simple.wikipedia.org/wiki/Beat_It_2008</td>\n",
        "    </tr>\n",
        "    <tr>\n",
        "      <th>4</th>\n",
        "      <td>   9</td>\n",
        "      <td>        https://simple.wikipedia.org/wiki/Sympatry</td>\n",
        "    </tr>\n",
        "    <tr>\n",
        "      <th>5</th>\n",
        "      <td>   9</td>\n",
        "      <td>          https://simple.wikipedia.org/wiki/Acting</td>\n",
        "    </tr>\n",
        "    <tr>\n",
        "      <th>6</th>\n",
        "      <td>   9</td>\n",
        "      <td>             https://simple.wikipedia.org/wiki/OBE</td>\n",
        "    </tr>\n",
        "    <tr>\n",
        "      <th>7</th>\n",
        "      <td>   8</td>\n",
        "      <td>            https://simple.wikipedia.org/wiki/Purr</td>\n",
        "    </tr>\n",
        "    <tr>\n",
        "      <th>8</th>\n",
        "      <td>   8</td>\n",
        "      <td>    https://simple.wikipedia.org/wiki/Harry_Potter</td>\n",
        "    </tr>\n",
        "    <tr>\n",
        "      <th>9</th>\n",
        "      <td>   7</td>\n",
        "      <td> https://simple.wikipedia.org/wiki/William_Lyon...</td>\n",
        "    </tr>\n",
        "  </tbody>\n",
        "</table>\n",
        "</div>"
       ],
       "metadata": {},
       "output_type": "pyout",
       "prompt_number": 133,
       "text": [
        "   Size                                                URL\n",
        "0   101    https://simple.wikipedia.org/wiki/List_of_popes\n",
        "1    36        https://simple.wikipedia.org/wiki/Arthedain\n",
        "2    14          https://simple.wikipedia.org/wiki/Aragorn\n",
        "3    12     https://simple.wikipedia.org/wiki/Beat_It_2008\n",
        "4     9         https://simple.wikipedia.org/wiki/Sympatry\n",
        "5     9           https://simple.wikipedia.org/wiki/Acting\n",
        "6     9              https://simple.wikipedia.org/wiki/OBE\n",
        "7     8             https://simple.wikipedia.org/wiki/Purr\n",
        "8     8     https://simple.wikipedia.org/wiki/Harry_Potter\n",
        "9     7  https://simple.wikipedia.org/wiki/William_Lyon..."
       ]
      }
     ],
     "prompt_number": 133
    },
    {
     "cell_type": "heading",
     "level": 4,
     "metadata": {},
     "source": [
      "n = 10"
     ]
    },
    {
     "cell_type": "code",
     "collapsed": false,
     "input": [
      "_clusters10 = clusterize(_docs, _trie, 10)\n",
      "_clusters10.sort(key=lambda cluster: len(cluster.slaves), reverse=True)\n",
      "\n",
      "%time"
     ],
     "language": "python",
     "metadata": {},
     "outputs": [
      {
       "output_type": "stream",
       "stream": "stdout",
       "text": [
        "CPU times: user 3 \u00b5s, sys: 0 ns, total: 3 \u00b5s\n",
        "Wall time: 6.2 \u00b5s\n"
       ]
      }
     ],
     "prompt_number": 134
    },
    {
     "cell_type": "code",
     "collapsed": false,
     "input": [
      "histogram([len(cluster.slaves) for cluster in _clusters10], 'Cluster size', 'Clusters', 'Cluster size distribution')"
     ],
     "language": "python",
     "metadata": {},
     "outputs": [
      {
       "metadata": {},
       "output_type": "display_data",
       "png": "[encoded data removed]",
       "text": [
        "<matplotlib.figure.Figure at 0x7fee180a0e80>"
       ]
      }
     ],
     "prompt_number": 135
    },
    {
     "cell_type": "code",
     "collapsed": false,
     "input": [
      "histogram([len(cluster.slaves) for cluster in _clusters10], 'Cluster size', 'Clusters', 'Cluster size distribution (Log)', log=True)"
     ],
     "language": "python",
     "metadata": {},
     "outputs": [
      {
       "metadata": {},
       "output_type": "display_data",
       "png": "[encoded data removed]",
       "text": [
        "<matplotlib.figure.Figure at 0x7fee14dee978>"
       ]
      }
     ],
     "prompt_number": 136
    },
    {
     "cell_type": "code",
     "collapsed": false,
     "input": [
      "top(_clusters10, 10)"
     ],
     "language": "python",
     "metadata": {},
     "outputs": [
      {
       "html": [
        "<div style=\"max-height:1000px;max-width:1500px;overflow:auto;\">\n",
        "<table border=\"1\" class=\"dataframe\">\n",
        "  <thead>\n",
        "    <tr style=\"text-align: right;\">\n",
        "      <th></th>\n",
        "      <th>Size</th>\n",
        "      <th>URL</th>\n",
        "    </tr>\n",
        "  </thead>\n",
        "  <tbody>\n",
        "    <tr>\n",
        "      <th>0</th>\n",
        "      <td> 176</td>\n",
        "      <td>       https://simple.wikipedia.org/wiki/Vermelles</td>\n",
        "    </tr>\n",
        "    <tr>\n",
        "      <th>1</th>\n",
        "      <td> 101</td>\n",
        "      <td>   https://simple.wikipedia.org/wiki/List_of_popes</td>\n",
        "    </tr>\n",
        "    <tr>\n",
        "      <th>2</th>\n",
        "      <td>  78</td>\n",
        "      <td> https://simple.wikipedia.org/wiki/Kuwait_natio...</td>\n",
        "    </tr>\n",
        "    <tr>\n",
        "      <th>3</th>\n",
        "      <td>  47</td>\n",
        "      <td>        https://simple.wikipedia.org/wiki/Corbehem</td>\n",
        "    </tr>\n",
        "    <tr>\n",
        "      <th>4</th>\n",
        "      <td>  24</td>\n",
        "      <td> https://simple.wikipedia.org/wiki/Valparaiso_U...</td>\n",
        "    </tr>\n",
        "    <tr>\n",
        "      <th>5</th>\n",
        "      <td>  21</td>\n",
        "      <td>          https://simple.wikipedia.org/wiki/Toudon</td>\n",
        "    </tr>\n",
        "    <tr>\n",
        "      <th>6</th>\n",
        "      <td>  16</td>\n",
        "      <td> https://simple.wikipedia.org/wiki/Blue_Earth_R...</td>\n",
        "    </tr>\n",
        "    <tr>\n",
        "      <th>7</th>\n",
        "      <td>  16</td>\n",
        "      <td>           https://simple.wikipedia.org/wiki/Blaye</td>\n",
        "    </tr>\n",
        "    <tr>\n",
        "      <th>8</th>\n",
        "      <td>  14</td>\n",
        "      <td>         https://simple.wikipedia.org/wiki/Aragorn</td>\n",
        "    </tr>\n",
        "    <tr>\n",
        "      <th>9</th>\n",
        "      <td>  12</td>\n",
        "      <td>    https://simple.wikipedia.org/wiki/Beat_It_2008</td>\n",
        "    </tr>\n",
        "  </tbody>\n",
        "</table>\n",
        "</div>"
       ],
       "metadata": {},
       "output_type": "pyout",
       "prompt_number": 137,
       "text": [
        "   Size                                                URL\n",
        "0   176        https://simple.wikipedia.org/wiki/Vermelles\n",
        "1   101    https://simple.wikipedia.org/wiki/List_of_popes\n",
        "2    78  https://simple.wikipedia.org/wiki/Kuwait_natio...\n",
        "3    47         https://simple.wikipedia.org/wiki/Corbehem\n",
        "4    24  https://simple.wikipedia.org/wiki/Valparaiso_U...\n",
        "5    21           https://simple.wikipedia.org/wiki/Toudon\n",
        "6    16  https://simple.wikipedia.org/wiki/Blue_Earth_R...\n",
        "7    16            https://simple.wikipedia.org/wiki/Blaye\n",
        "8    14          https://simple.wikipedia.org/wiki/Aragorn\n",
        "9    12     https://simple.wikipedia.org/wiki/Beat_It_2008"
       ]
      }
     ],
     "prompt_number": 137
    },
    {
     "cell_type": "heading",
     "level": 4,
     "metadata": {},
     "source": [
      "n = 15"
     ]
    },
    {
     "cell_type": "code",
     "collapsed": false,
     "input": [
      "_clusters15 = clusterize(_docs, _trie, 15)\n",
      "_clusters15.sort(key=lambda cluster: len(cluster.slaves), reverse=True)\n",
      "\n",
      "%time"
     ],
     "language": "python",
     "metadata": {},
     "outputs": [
      {
       "output_type": "stream",
       "stream": "stdout",
       "text": [
        "CPU times: user 4 \u00b5s, sys: 0 ns, total: 4 \u00b5s\n",
        "Wall time: 9.78 \u00b5s\n"
       ]
      }
     ],
     "prompt_number": 138
    },
    {
     "cell_type": "code",
     "collapsed": false,
     "input": [
      "histogram([len(cluster.slaves) for cluster in _clusters15], 'Cluster size', 'Clusters', 'Cluster size distribution')"
     ],
     "language": "python",
     "metadata": {},
     "outputs": [
      {
       "metadata": {},
       "output_type": "display_data",
       "png": "[encoded data removed]",
       "text": [
        "<matplotlib.figure.Figure at 0x7fede3fa43c8>"
       ]
      }
     ],
     "prompt_number": 139
    },
    {
     "cell_type": "code",
     "collapsed": false,
     "input": [
      "histogram([len(cluster.slaves) for cluster in _clusters15], 'Cluster size', 'Clusters', 'Cluster size distribution (Log)', log=True)"
     ],
     "language": "python",
     "metadata": {},
     "outputs": [
      {
       "metadata": {},
       "output_type": "display_data",
       "png": "[encoded data removed]",
       "text": [
        "<matplotlib.figure.Figure at 0x7fede4b7e080>"
       ]
      }
     ],
     "prompt_number": 140
    },
    {
     "cell_type": "code",
     "collapsed": false,
     "input": [
      "top(_clusters15, 10)"
     ],
     "language": "python",
     "metadata": {},
     "outputs": [
      {
       "html": [
        "<div style=\"max-height:1000px;max-width:1500px;overflow:auto;\">\n",
        "<table border=\"1\" class=\"dataframe\">\n",
        "  <thead>\n",
        "    <tr style=\"text-align: right;\">\n",
        "      <th></th>\n",
        "      <th>Size</th>\n",
        "      <th>URL</th>\n",
        "    </tr>\n",
        "  </thead>\n",
        "  <tbody>\n",
        "    <tr>\n",
        "      <th>0</th>\n",
        "      <td> 887</td>\n",
        "      <td> https://simple.wikipedia.org/wiki/Balin_son_of...</td>\n",
        "    </tr>\n",
        "    <tr>\n",
        "      <th>1</th>\n",
        "      <td> 173</td>\n",
        "      <td>          https://simple.wikipedia.org/wiki/Accous</td>\n",
        "    </tr>\n",
        "    <tr>\n",
        "      <th>2</th>\n",
        "      <td> 104</td>\n",
        "      <td>          https://simple.wikipedia.org/wiki/17_May</td>\n",
        "    </tr>\n",
        "    <tr>\n",
        "      <th>3</th>\n",
        "      <td> 101</td>\n",
        "      <td>   https://simple.wikipedia.org/wiki/List_of_popes</td>\n",
        "    </tr>\n",
        "    <tr>\n",
        "      <th>4</th>\n",
        "      <td>  46</td>\n",
        "      <td>       https://simple.wikipedia.org/wiki/Cerisiers</td>\n",
        "    </tr>\n",
        "    <tr>\n",
        "      <th>5</th>\n",
        "      <td>  40</td>\n",
        "      <td>     https://simple.wikipedia.org/wiki/Franz_Liszt</td>\n",
        "    </tr>\n",
        "    <tr>\n",
        "      <th>6</th>\n",
        "      <td>  37</td>\n",
        "      <td>         https://simple.wikipedia.org/wiki/Algebra</td>\n",
        "    </tr>\n",
        "    <tr>\n",
        "      <th>7</th>\n",
        "      <td>  28</td>\n",
        "      <td> https://simple.wikipedia.org/wiki/Illinois_Fig...</td>\n",
        "    </tr>\n",
        "    <tr>\n",
        "      <th>8</th>\n",
        "      <td>  24</td>\n",
        "      <td>             https://simple.wikipedia.org/wiki/Ain</td>\n",
        "    </tr>\n",
        "    <tr>\n",
        "      <th>9</th>\n",
        "      <td>  24</td>\n",
        "      <td>       https://simple.wikipedia.org/wiki/Precedent</td>\n",
        "    </tr>\n",
        "  </tbody>\n",
        "</table>\n",
        "</div>"
       ],
       "metadata": {},
       "output_type": "pyout",
       "prompt_number": 141,
       "text": [
        "   Size                                                URL\n",
        "0   887  https://simple.wikipedia.org/wiki/Balin_son_of...\n",
        "1   173           https://simple.wikipedia.org/wiki/Accous\n",
        "2   104           https://simple.wikipedia.org/wiki/17_May\n",
        "3   101    https://simple.wikipedia.org/wiki/List_of_popes\n",
        "4    46        https://simple.wikipedia.org/wiki/Cerisiers\n",
        "5    40      https://simple.wikipedia.org/wiki/Franz_Liszt\n",
        "6    37          https://simple.wikipedia.org/wiki/Algebra\n",
        "7    28  https://simple.wikipedia.org/wiki/Illinois_Fig...\n",
        "8    24              https://simple.wikipedia.org/wiki/Ain\n",
        "9    24        https://simple.wikipedia.org/wiki/Precedent"
       ]
      }
     ],
     "prompt_number": 141
    },
    {
     "cell_type": "markdown",
     "metadata": {},
     "source": [
      "\u0422\u0435\u043f\u0435\u0440\u044c \u043f\u043e\u0441\u043c\u043e\u0442\u0440\u0438\u043c \u043d\u0430 \u0440\u0430\u0441\u043f\u0440\u0435\u0434\u0435\u043b\u0435\u043d\u0438\u0435 \u0440\u0430\u0441\u0441\u0442\u043e\u044f\u043d\u0438\u0439 \u043c\u0435\u0436\u0434\u0443 \u0441\u0438\u043c\u0445\u0435\u0448\u0430\u043c\u0438.\n",
      "\n",
      "\u041f\u043e\u0441\u043a\u043e\u043b\u044c\u043a\u0443 \u0432 \u0434\u0430\u043d\u043d\u043e\u043c \u0440\u0435\u0448\u0435\u043d\u0438\u0438 \u0438\u0441\u043f\u043e\u043b\u044c\u0437\u043e\u0432\u0430\u043b\u0441\u044f \u0431\u043e\u0440, \u043d\u0438\u043a\u0430\u043a\u0438\u0435 \u043a\u043e\u043d\u043a\u0440\u0435\u0442\u043d\u044b\u0435 \u0441\u0438\u043c\u0445\u0435\u0448\u0438 \u043c\u0435\u0436\u0434\u0443 \u0441\u043e\u0431\u043e\u0439 \u043d\u0435 \u0441\u0440\u0430\u0432\u043d\u0438\u0432\u0430\u043b\u0438\u0441\u044c, \u043f\u043e\u044d\u0442\u043e\u043c\u0443 \u043f\u043e\u043f\u0440\u043e\u0431\u0443\u0435\u043c \u043f\u0440\u043e\u0441\u0442\u043e \u0432\u0437\u044f\u0442\u044c \u043d\u0435\u043a\u043e\u0442\u043e\u0440\u0443\u044e \u0432\u044b\u0431\u043e\u0440\u043a\u0443 \u0441\u0438\u043c\u0445\u0435\u0448\u0435\u0439 \u0438 \u043f\u043e\u0441\u0440\u0430\u0432\u043d\u0438\u0432\u0430\u0442\u044c \u0438\u0445 \u043c\u0435\u0436\u0434\u0443 \u0441\u043e\u0431\u043e\u0439"
     ]
    },
    {
     "cell_type": "code",
     "collapsed": false,
     "input": [
      "def compare(firstSimhash, secondSimhash):\n",
      "    return sum(firstBit != secondBit for firstBit, secondBit in zip(list(firstSimhash), list(secondSimhash)))"
     ],
     "language": "python",
     "metadata": {},
     "outputs": [],
     "prompt_number": 168
    },
    {
     "cell_type": "code",
     "collapsed": false,
     "input": [
      "distances = []\n",
      "stoptime = time.time() + 60 * 60\n",
      "while time.time() < stoptime:\n",
      "    for i in range(128):\n",
      "        distances.append(compare(random.choice(_docs).simhash, random.choice(_docs).simhash))\n",
      "histogram(distances, 'Distance', 'Pairs count', 'Simhash distance distribution')"
     ],
     "language": "python",
     "metadata": {},
     "outputs": [
      {
       "metadata": {},
       "output_type": "display_data",
       "png": "[encoded data removed]",
       "text": [
        "<matplotlib.figure.Figure at 0x7fee3fce0ba8>"
       ]
      }
     ],
     "prompt_number": 180
    },
    {
     "cell_type": "markdown",
     "metadata": {},
     "source": [
      "\u0418\u043d\u0442\u0435\u0440\u0435\u0441\u043d\u043e \u0437\u0430\u0433\u043b\u044f\u043d\u0443\u0442\u044c \u0432 \u043d\u0435\u043a\u043e\u0442\u043e\u0440\u044b\u0435 \u043a\u043b\u0430\u0441\u0442\u0435\u0440\u0430, \u0447\u0442\u043e\u0431\u044b \u043f\u043e\u043d\u044f\u0442\u044c, \u0447\u0442\u043e \u043e\u043d\u0438 \u0438\u0437 \u0441\u0435\u0431\u044f \u043f\u0440\u0435\u0434\u0441\u0442\u0430\u0432\u043b\u044f\u044e\u0442 \u0432\u043d\u0443\u0442\u0440\u0438"
     ]
    },
    {
     "cell_type": "code",
     "collapsed": false,
     "input": [
      "def some(cluster, each):\n",
      "    someDocs = sorted(cluster.slaves, key=lambda slave: slave.link)[::each]\n",
      "    return pd.DataFrame.from_dict({'URL': [doc.link for doc in someDocs], 'Size': [doc.length for doc in someDocs]})\n",
      "\n",
      "def print_cluster(cluster, each):\n",
      "    print(cluster.master.link)\n",
      "    return some(cluster, each)"
     ],
     "language": "python",
     "metadata": {},
     "outputs": [],
     "prompt_number": 145
    },
    {
     "cell_type": "code",
     "collapsed": false,
     "input": [
      "print_cluster(_clusters5[0], 5)"
     ],
     "language": "python",
     "metadata": {},
     "outputs": [
      {
       "output_type": "stream",
       "stream": "stdout",
       "text": [
        "https://simple.wikipedia.org/wiki/List_of_popes\n"
       ]
      },
      {
       "html": [
        "<div style=\"max-height:1000px;max-width:1500px;overflow:auto;\">\n",
        "<table border=\"1\" class=\"dataframe\">\n",
        "  <thead>\n",
        "    <tr style=\"text-align: right;\">\n",
        "      <th></th>\n",
        "      <th>Size</th>\n",
        "      <th>URL</th>\n",
        "    </tr>\n",
        "  </thead>\n",
        "  <tbody>\n",
        "    <tr>\n",
        "      <th>0 </th>\n",
        "      <td> 64</td>\n",
        "      <td> https://simple.wikipedia.org/wiki/List_of_ages...</td>\n",
        "    </tr>\n",
        "    <tr>\n",
        "      <th>1 </th>\n",
        "      <td> 64</td>\n",
        "      <td>  https://simple.wikipedia.org/wiki/Pope_Adrian_VI</td>\n",
        "    </tr>\n",
        "    <tr>\n",
        "      <th>2 </th>\n",
        "      <td> 64</td>\n",
        "      <td> https://simple.wikipedia.org/wiki/Pope_Benedic...</td>\n",
        "    </tr>\n",
        "    <tr>\n",
        "      <th>3 </th>\n",
        "      <td> 64</td>\n",
        "      <td> https://simple.wikipedia.org/wiki/Pope_Bonifac...</td>\n",
        "    </tr>\n",
        "    <tr>\n",
        "      <th>4 </th>\n",
        "      <td> 64</td>\n",
        "      <td> https://simple.wikipedia.org/wiki/Pope_Clement_IV</td>\n",
        "    </tr>\n",
        "    <tr>\n",
        "      <th>5 </th>\n",
        "      <td> 64</td>\n",
        "      <td>  https://simple.wikipedia.org/wiki/Pope_Cornelius</td>\n",
        "    </tr>\n",
        "    <tr>\n",
        "      <th>6 </th>\n",
        "      <td> 64</td>\n",
        "      <td>  https://simple.wikipedia.org/wiki/Pope_Eugene_IV</td>\n",
        "    </tr>\n",
        "    <tr>\n",
        "      <th>7 </th>\n",
        "      <td> 64</td>\n",
        "      <td>  https://simple.wikipedia.org/wiki/Pope_Felix_III</td>\n",
        "    </tr>\n",
        "    <tr>\n",
        "      <th>8 </th>\n",
        "      <td> 64</td>\n",
        "      <td> https://simple.wikipedia.org/wiki/Pope_Gregory_XV</td>\n",
        "    </tr>\n",
        "    <tr>\n",
        "      <th>9 </th>\n",
        "      <td> 64</td>\n",
        "      <td>    https://simple.wikipedia.org/wiki/Pope_John_II</td>\n",
        "    </tr>\n",
        "    <tr>\n",
        "      <th>10</th>\n",
        "      <td> 64</td>\n",
        "      <td>  https://simple.wikipedia.org/wiki/Pope_John_VIII</td>\n",
        "    </tr>\n",
        "    <tr>\n",
        "      <th>11</th>\n",
        "      <td> 64</td>\n",
        "      <td>  https://simple.wikipedia.org/wiki/Pope_John_XVII</td>\n",
        "    </tr>\n",
        "    <tr>\n",
        "      <th>12</th>\n",
        "      <td> 64</td>\n",
        "      <td>   https://simple.wikipedia.org/wiki/Pope_Leo_VIII</td>\n",
        "    </tr>\n",
        "    <tr>\n",
        "      <th>13</th>\n",
        "      <td> 64</td>\n",
        "      <td> https://simple.wikipedia.org/wiki/Pope_Marcell...</td>\n",
        "    </tr>\n",
        "    <tr>\n",
        "      <th>14</th>\n",
        "      <td> 64</td>\n",
        "      <td>   https://simple.wikipedia.org/wiki/Pope_Martin_V</td>\n",
        "    </tr>\n",
        "    <tr>\n",
        "      <th>15</th>\n",
        "      <td> 64</td>\n",
        "      <td>  https://simple.wikipedia.org/wiki/Pope_Paschal_I</td>\n",
        "    </tr>\n",
        "    <tr>\n",
        "      <th>16</th>\n",
        "      <td> 64</td>\n",
        "      <td> https://simple.wikipedia.org/wiki/Pope_Sergius_IV</td>\n",
        "    </tr>\n",
        "    <tr>\n",
        "      <th>17</th>\n",
        "      <td> 64</td>\n",
        "      <td> https://simple.wikipedia.org/wiki/Pope_Sixtus_III</td>\n",
        "    </tr>\n",
        "    <tr>\n",
        "      <th>18</th>\n",
        "      <td> 64</td>\n",
        "      <td> https://simple.wikipedia.org/wiki/Pope_Stephen...</td>\n",
        "    </tr>\n",
        "    <tr>\n",
        "      <th>19</th>\n",
        "      <td> 64</td>\n",
        "      <td>   https://simple.wikipedia.org/wiki/Pope_Urban_II</td>\n",
        "    </tr>\n",
        "    <tr>\n",
        "      <th>20</th>\n",
        "      <td> 64</td>\n",
        "      <td>    https://simple.wikipedia.org/wiki/Pope_Zosimus</td>\n",
        "    </tr>\n",
        "  </tbody>\n",
        "</table>\n",
        "</div>"
       ],
       "metadata": {},
       "output_type": "pyout",
       "prompt_number": 146,
       "text": [
        "    Size                                                URL\n",
        "0     64  https://simple.wikipedia.org/wiki/List_of_ages...\n",
        "1     64   https://simple.wikipedia.org/wiki/Pope_Adrian_VI\n",
        "2     64  https://simple.wikipedia.org/wiki/Pope_Benedic...\n",
        "3     64  https://simple.wikipedia.org/wiki/Pope_Bonifac...\n",
        "4     64  https://simple.wikipedia.org/wiki/Pope_Clement_IV\n",
        "5     64   https://simple.wikipedia.org/wiki/Pope_Cornelius\n",
        "6     64   https://simple.wikipedia.org/wiki/Pope_Eugene_IV\n",
        "7     64   https://simple.wikipedia.org/wiki/Pope_Felix_III\n",
        "8     64  https://simple.wikipedia.org/wiki/Pope_Gregory_XV\n",
        "9     64     https://simple.wikipedia.org/wiki/Pope_John_II\n",
        "10    64   https://simple.wikipedia.org/wiki/Pope_John_VIII\n",
        "11    64   https://simple.wikipedia.org/wiki/Pope_John_XVII\n",
        "12    64    https://simple.wikipedia.org/wiki/Pope_Leo_VIII\n",
        "13    64  https://simple.wikipedia.org/wiki/Pope_Marcell...\n",
        "14    64    https://simple.wikipedia.org/wiki/Pope_Martin_V\n",
        "15    64   https://simple.wikipedia.org/wiki/Pope_Paschal_I\n",
        "16    64  https://simple.wikipedia.org/wiki/Pope_Sergius_IV\n",
        "17    64  https://simple.wikipedia.org/wiki/Pope_Sixtus_III\n",
        "18    64  https://simple.wikipedia.org/wiki/Pope_Stephen...\n",
        "19    64    https://simple.wikipedia.org/wiki/Pope_Urban_II\n",
        "20    64     https://simple.wikipedia.org/wiki/Pope_Zosimus"
       ]
      }
     ],
     "prompt_number": 146
    },
    {
     "cell_type": "code",
     "collapsed": false,
     "input": [
      "print_cluster(_clusters5[3], 1)"
     ],
     "language": "python",
     "metadata": {},
     "outputs": [
      {
       "output_type": "stream",
       "stream": "stdout",
       "text": [
        "https://simple.wikipedia.org/wiki/Beat_It_2008\n"
       ]
      },
      {
       "html": [
        "<div style=\"max-height:1000px;max-width:1500px;overflow:auto;\">\n",
        "<table border=\"1\" class=\"dataframe\">\n",
        "  <thead>\n",
        "    <tr style=\"text-align: right;\">\n",
        "      <th></th>\n",
        "      <th>Size</th>\n",
        "      <th>URL</th>\n",
        "    </tr>\n",
        "  </thead>\n",
        "  <tbody>\n",
        "    <tr>\n",
        "      <th>0 </th>\n",
        "      <td> 140</td>\n",
        "      <td>    https://simple.wikipedia.org/wiki/Beat_It_2008</td>\n",
        "    </tr>\n",
        "    <tr>\n",
        "      <th>1 </th>\n",
        "      <td> 140</td>\n",
        "      <td> https://simple.wikipedia.org/wiki/Billie_Jean_...</td>\n",
        "    </tr>\n",
        "    <tr>\n",
        "      <th>2 </th>\n",
        "      <td> 140</td>\n",
        "      <td>  https://simple.wikipedia.org/wiki/HIStory/Ghosts</td>\n",
        "    </tr>\n",
        "    <tr>\n",
        "      <th>3 </th>\n",
        "      <td> 140</td>\n",
        "      <td> https://simple.wikipedia.org/wiki/Immortal_Meg...</td>\n",
        "    </tr>\n",
        "    <tr>\n",
        "      <th>4 </th>\n",
        "      <td> 140</td>\n",
        "      <td> https://simple.wikipedia.org/wiki/Michael_Jack...</td>\n",
        "    </tr>\n",
        "    <tr>\n",
        "      <th>5 </th>\n",
        "      <td> 140</td>\n",
        "      <td> https://simple.wikipedia.org/wiki/Night_Time_L...</td>\n",
        "    </tr>\n",
        "    <tr>\n",
        "      <th>6 </th>\n",
        "      <td> 140</td>\n",
        "      <td>     https://simple.wikipedia.org/wiki/Say_Say_Say</td>\n",
        "    </tr>\n",
        "    <tr>\n",
        "      <th>7 </th>\n",
        "      <td> 140</td>\n",
        "      <td> https://simple.wikipedia.org/wiki/Scream/Child...</td>\n",
        "    </tr>\n",
        "    <tr>\n",
        "      <th>8 </th>\n",
        "      <td> 140</td>\n",
        "      <td> https://simple.wikipedia.org/wiki/Twenty-Five_...</td>\n",
        "    </tr>\n",
        "    <tr>\n",
        "      <th>9 </th>\n",
        "      <td> 140</td>\n",
        "      <td> https://simple.wikipedia.org/wiki/What_More_Ca...</td>\n",
        "    </tr>\n",
        "    <tr>\n",
        "      <th>10</th>\n",
        "      <td> 140</td>\n",
        "      <td> https://simple.wikipedia.org/wiki/Will_You_Be_...</td>\n",
        "    </tr>\n",
        "    <tr>\n",
        "      <th>11</th>\n",
        "      <td> 140</td>\n",
        "      <td> https://simple.wikipedia.org/wiki/You_Rock_My_...</td>\n",
        "    </tr>\n",
        "  </tbody>\n",
        "</table>\n",
        "</div>"
       ],
       "metadata": {},
       "output_type": "pyout",
       "prompt_number": 149,
       "text": [
        "    Size                                                URL\n",
        "0    140     https://simple.wikipedia.org/wiki/Beat_It_2008\n",
        "1    140  https://simple.wikipedia.org/wiki/Billie_Jean_...\n",
        "2    140   https://simple.wikipedia.org/wiki/HIStory/Ghosts\n",
        "3    140  https://simple.wikipedia.org/wiki/Immortal_Meg...\n",
        "4    140  https://simple.wikipedia.org/wiki/Michael_Jack...\n",
        "5    140  https://simple.wikipedia.org/wiki/Night_Time_L...\n",
        "6    140      https://simple.wikipedia.org/wiki/Say_Say_Say\n",
        "7    140  https://simple.wikipedia.org/wiki/Scream/Child...\n",
        "8    140  https://simple.wikipedia.org/wiki/Twenty-Five_...\n",
        "9    140  https://simple.wikipedia.org/wiki/What_More_Ca...\n",
        "10   140  https://simple.wikipedia.org/wiki/Will_You_Be_...\n",
        "11   140  https://simple.wikipedia.org/wiki/You_Rock_My_..."
       ]
      }
     ],
     "prompt_number": 149
    },
    {
     "cell_type": "code",
     "collapsed": false,
     "input": [
      "print_cluster(_clusters10[0], 5)"
     ],
     "language": "python",
     "metadata": {},
     "outputs": [
      {
       "output_type": "stream",
       "stream": "stdout",
       "text": [
        "https://simple.wikipedia.org/wiki/Vermelles\n"
       ]
      },
      {
       "html": [
        "<div style=\"max-height:1000px;max-width:1500px;overflow:auto;\">\n",
        "<table border=\"1\" class=\"dataframe\">\n",
        "  <thead>\n",
        "    <tr style=\"text-align: right;\">\n",
        "      <th></th>\n",
        "      <th>Size</th>\n",
        "      <th>URL</th>\n",
        "    </tr>\n",
        "  </thead>\n",
        "  <tbody>\n",
        "    <tr>\n",
        "      <th>0 </th>\n",
        "      <td> 30</td>\n",
        "      <td>    https://simple.wikipedia.org/wiki/Aix-en-Ergny</td>\n",
        "    </tr>\n",
        "    <tr>\n",
        "      <th>1 </th>\n",
        "      <td> 26</td>\n",
        "      <td>          https://simple.wikipedia.org/wiki/Angres</td>\n",
        "    </tr>\n",
        "    <tr>\n",
        "      <th>2 </th>\n",
        "      <td> 30</td>\n",
        "      <td> https://simple.wikipedia.org/wiki/Aubigny-en-A...</td>\n",
        "    </tr>\n",
        "    <tr>\n",
        "      <th>3 </th>\n",
        "      <td> 26</td>\n",
        "      <td>     https://simple.wikipedia.org/wiki/Bailleulval</td>\n",
        "    </tr>\n",
        "    <tr>\n",
        "      <th>4 </th>\n",
        "      <td> 28</td>\n",
        "      <td> https://simple.wikipedia.org/wiki/Beauvoir-Wavans</td>\n",
        "    </tr>\n",
        "    <tr>\n",
        "      <th>5 </th>\n",
        "      <td> 26</td>\n",
        "      <td>     https://simple.wikipedia.org/wiki/Boisdinghem</td>\n",
        "    </tr>\n",
        "    <tr>\n",
        "      <th>6 </th>\n",
        "      <td> 26</td>\n",
        "      <td>        https://simple.wikipedia.org/wiki/Bourthes</td>\n",
        "    </tr>\n",
        "    <tr>\n",
        "      <th>7 </th>\n",
        "      <td> 26</td>\n",
        "      <td>          https://simple.wikipedia.org/wiki/Calais</td>\n",
        "    </tr>\n",
        "    <tr>\n",
        "      <th>8 </th>\n",
        "      <td> 26</td>\n",
        "      <td>        https://simple.wikipedia.org/wiki/Clarques</td>\n",
        "    </tr>\n",
        "    <tr>\n",
        "      <th>9 </th>\n",
        "      <td> 26</td>\n",
        "      <td>       https://simple.wikipedia.org/wiki/Coyecques</td>\n",
        "    </tr>\n",
        "    <tr>\n",
        "      <th>10</th>\n",
        "      <td> 26</td>\n",
        "      <td>       https://simple.wikipedia.org/wiki/Echinghen</td>\n",
        "    </tr>\n",
        "    <tr>\n",
        "      <th>11</th>\n",
        "      <td> 26</td>\n",
        "      <td>          https://simple.wikipedia.org/wiki/Ferfay</td>\n",
        "    </tr>\n",
        "    <tr>\n",
        "      <th>12</th>\n",
        "      <td> 28</td>\n",
        "      <td> https://simple.wikipedia.org/wiki/Foufflin-Ric...</td>\n",
        "    </tr>\n",
        "    <tr>\n",
        "      <th>13</th>\n",
        "      <td> 30</td>\n",
        "      <td>  https://simple.wikipedia.org/wiki/Gouy-en-Artois</td>\n",
        "    </tr>\n",
        "    <tr>\n",
        "      <th>14</th>\n",
        "      <td> 26</td>\n",
        "      <td>          https://simple.wikipedia.org/wiki/Harnes</td>\n",
        "    </tr>\n",
        "    <tr>\n",
        "      <th>15</th>\n",
        "      <td> 26</td>\n",
        "      <td>         https://simple.wikipedia.org/wiki/Hulluch</td>\n",
        "    </tr>\n",
        "    <tr>\n",
        "      <th>16</th>\n",
        "      <td> 26</td>\n",
        "      <td>         https://simple.wikipedia.org/wiki/Labroye</td>\n",
        "    </tr>\n",
        "    <tr>\n",
        "      <th>17</th>\n",
        "      <td> 26</td>\n",
        "      <td>      https://simple.wikipedia.org/wiki/Leulinghem</td>\n",
        "    </tr>\n",
        "    <tr>\n",
        "      <th>18</th>\n",
        "      <td> 26</td>\n",
        "      <td>         https://simple.wikipedia.org/wiki/Louches</td>\n",
        "    </tr>\n",
        "    <tr>\n",
        "      <th>19</th>\n",
        "      <td> 26</td>\n",
        "      <td>      https://simple.wikipedia.org/wiki/Maresville</td>\n",
        "    </tr>\n",
        "    <tr>\n",
        "      <th>20</th>\n",
        "      <td> 26</td>\n",
        "      <td>        https://simple.wikipedia.org/wiki/Meurchin</td>\n",
        "    </tr>\n",
        "    <tr>\n",
        "      <th>21</th>\n",
        "      <td> 26</td>\n",
        "      <td>        https://simple.wikipedia.org/wiki/Morchies</td>\n",
        "    </tr>\n",
        "    <tr>\n",
        "      <th>22</th>\n",
        "      <td> 26</td>\n",
        "      <td>      https://simple.wikipedia.org/wiki/Offekerque</td>\n",
        "    </tr>\n",
        "    <tr>\n",
        "      <th>23</th>\n",
        "      <td> 26</td>\n",
        "      <td>         https://simple.wikipedia.org/wiki/Palluel</td>\n",
        "    </tr>\n",
        "    <tr>\n",
        "      <th>24</th>\n",
        "      <td> 26</td>\n",
        "      <td>        https://simple.wikipedia.org/wiki/Planques</td>\n",
        "    </tr>\n",
        "    <tr>\n",
        "      <th>25</th>\n",
        "      <td> 26</td>\n",
        "      <td>     https://simple.wikipedia.org/wiki/Regnauville</td>\n",
        "    </tr>\n",
        "    <tr>\n",
        "      <th>26</th>\n",
        "      <td> 26</td>\n",
        "      <td>     https://simple.wikipedia.org/wiki/Rollancourt</td>\n",
        "    </tr>\n",
        "    <tr>\n",
        "      <th>27</th>\n",
        "      <td> 32</td>\n",
        "      <td> https://simple.wikipedia.org/wiki/Sailly-sur-l...</td>\n",
        "    </tr>\n",
        "    <tr>\n",
        "      <th>28</th>\n",
        "      <td> 30</td>\n",
        "      <td> https://simple.wikipedia.org/wiki/Saint-Omer-C...</td>\n",
        "    </tr>\n",
        "    <tr>\n",
        "      <th>29</th>\n",
        "      <td> 26</td>\n",
        "      <td>         https://simple.wikipedia.org/wiki/Servins</td>\n",
        "    </tr>\n",
        "    <tr>\n",
        "      <th>30</th>\n",
        "      <td> 26</td>\n",
        "      <td>      https://simple.wikipedia.org/wiki/Tardinghen</td>\n",
        "    </tr>\n",
        "    <tr>\n",
        "      <th>31</th>\n",
        "      <td> 26</td>\n",
        "      <td>     https://simple.wikipedia.org/wiki/Vaudringhem</td>\n",
        "    </tr>\n",
        "    <tr>\n",
        "      <th>32</th>\n",
        "      <td> 28</td>\n",
        "      <td> https://simple.wikipedia.org/wiki/Vieille-Chap...</td>\n",
        "    </tr>\n",
        "    <tr>\n",
        "      <th>33</th>\n",
        "      <td> 28</td>\n",
        "      <td> https://simple.wikipedia.org/wiki/Warlencourt-...</td>\n",
        "    </tr>\n",
        "    <tr>\n",
        "      <th>34</th>\n",
        "      <td> 26</td>\n",
        "      <td>        https://simple.wikipedia.org/wiki/Wimereux</td>\n",
        "    </tr>\n",
        "    <tr>\n",
        "      <th>35</th>\n",
        "      <td> 26</td>\n",
        "      <td>          https://simple.wikipedia.org/wiki/Zoteux</td>\n",
        "    </tr>\n",
        "  </tbody>\n",
        "</table>\n",
        "</div>"
       ],
       "metadata": {},
       "output_type": "pyout",
       "prompt_number": 150,
       "text": [
        "    Size                                                URL\n",
        "0     30     https://simple.wikipedia.org/wiki/Aix-en-Ergny\n",
        "1     26           https://simple.wikipedia.org/wiki/Angres\n",
        "2     30  https://simple.wikipedia.org/wiki/Aubigny-en-A...\n",
        "3     26      https://simple.wikipedia.org/wiki/Bailleulval\n",
        "4     28  https://simple.wikipedia.org/wiki/Beauvoir-Wavans\n",
        "5     26      https://simple.wikipedia.org/wiki/Boisdinghem\n",
        "6     26         https://simple.wikipedia.org/wiki/Bourthes\n",
        "7     26           https://simple.wikipedia.org/wiki/Calais\n",
        "8     26         https://simple.wikipedia.org/wiki/Clarques\n",
        "9     26        https://simple.wikipedia.org/wiki/Coyecques\n",
        "10    26        https://simple.wikipedia.org/wiki/Echinghen\n",
        "11    26           https://simple.wikipedia.org/wiki/Ferfay\n",
        "12    28  https://simple.wikipedia.org/wiki/Foufflin-Ric...\n",
        "13    30   https://simple.wikipedia.org/wiki/Gouy-en-Artois\n",
        "14    26           https://simple.wikipedia.org/wiki/Harnes\n",
        "15    26          https://simple.wikipedia.org/wiki/Hulluch\n",
        "16    26          https://simple.wikipedia.org/wiki/Labroye\n",
        "17    26       https://simple.wikipedia.org/wiki/Leulinghem\n",
        "18    26          https://simple.wikipedia.org/wiki/Louches\n",
        "19    26       https://simple.wikipedia.org/wiki/Maresville\n",
        "20    26         https://simple.wikipedia.org/wiki/Meurchin\n",
        "21    26         https://simple.wikipedia.org/wiki/Morchies\n",
        "22    26       https://simple.wikipedia.org/wiki/Offekerque\n",
        "23    26          https://simple.wikipedia.org/wiki/Palluel\n",
        "24    26         https://simple.wikipedia.org/wiki/Planques\n",
        "25    26      https://simple.wikipedia.org/wiki/Regnauville\n",
        "26    26      https://simple.wikipedia.org/wiki/Rollancourt\n",
        "27    32  https://simple.wikipedia.org/wiki/Sailly-sur-l...\n",
        "28    30  https://simple.wikipedia.org/wiki/Saint-Omer-C...\n",
        "29    26          https://simple.wikipedia.org/wiki/Servins\n",
        "30    26       https://simple.wikipedia.org/wiki/Tardinghen\n",
        "31    26      https://simple.wikipedia.org/wiki/Vaudringhem\n",
        "32    28  https://simple.wikipedia.org/wiki/Vieille-Chap...\n",
        "33    28  https://simple.wikipedia.org/wiki/Warlencourt-...\n",
        "34    26         https://simple.wikipedia.org/wiki/Wimereux\n",
        "35    26           https://simple.wikipedia.org/wiki/Zoteux"
       ]
      }
     ],
     "prompt_number": 150
    },
    {
     "cell_type": "code",
     "collapsed": false,
     "input": [
      "some(_clusters15[2], 10)"
     ],
     "language": "python",
     "metadata": {},
     "outputs": [
      {
       "html": [
        "<div style=\"max-height:1000px;max-width:1500px;overflow:auto;\">\n",
        "<table border=\"1\" class=\"dataframe\">\n",
        "  <thead>\n",
        "    <tr style=\"text-align: right;\">\n",
        "      <th></th>\n",
        "      <th>Size</th>\n",
        "      <th>URL</th>\n",
        "    </tr>\n",
        "  </thead>\n",
        "  <tbody>\n",
        "    <tr>\n",
        "      <th>0 </th>\n",
        "      <td>  30</td>\n",
        "      <td>      https://simple.wikipedia.org/wiki/10_March</td>\n",
        "    </tr>\n",
        "    <tr>\n",
        "      <th>1 </th>\n",
        "      <td>  13</td>\n",
        "      <td>          https://simple.wikipedia.org/wiki/1791</td>\n",
        "    </tr>\n",
        "    <tr>\n",
        "      <th>2 </th>\n",
        "      <td>  30</td>\n",
        "      <td>  https://simple.wikipedia.org/wiki/24_September</td>\n",
        "    </tr>\n",
        "    <tr>\n",
        "      <th>3 </th>\n",
        "      <td>  30</td>\n",
        "      <td>       https://simple.wikipedia.org/wiki/2_March</td>\n",
        "    </tr>\n",
        "    <tr>\n",
        "      <th>4 </th>\n",
        "      <td>  30</td>\n",
        "      <td>      https://simple.wikipedia.org/wiki/April_19</td>\n",
        "    </tr>\n",
        "    <tr>\n",
        "      <th>5 </th>\n",
        "      <td> 443</td>\n",
        "      <td>  https://simple.wikipedia.org/wiki/Cooper_Creek</td>\n",
        "    </tr>\n",
        "    <tr>\n",
        "      <th>6 </th>\n",
        "      <td>  35</td>\n",
        "      <td>  https://simple.wikipedia.org/wiki/Gan_language</td>\n",
        "    </tr>\n",
        "    <tr>\n",
        "      <th>7 </th>\n",
        "      <td>  30</td>\n",
        "      <td>        https://simple.wikipedia.org/wiki/June_6</td>\n",
        "    </tr>\n",
        "    <tr>\n",
        "      <th>8 </th>\n",
        "      <td>  34</td>\n",
        "      <td> https://simple.wikipedia.org/wiki/Masally_Rayon</td>\n",
        "    </tr>\n",
        "    <tr>\n",
        "      <th>9 </th>\n",
        "      <td>  30</td>\n",
        "      <td>         https://simple.wikipedia.org/wiki/May_8</td>\n",
        "    </tr>\n",
        "    <tr>\n",
        "      <th>10</th>\n",
        "      <td>  43</td>\n",
        "      <td> https://simple.wikipedia.org/wiki/Saint_Matthew</td>\n",
        "    </tr>\n",
        "  </tbody>\n",
        "</table>\n",
        "</div>"
       ],
       "metadata": {},
       "output_type": "pyout",
       "prompt_number": 154,
       "text": [
        "    Size                                              URL\n",
        "0     30       https://simple.wikipedia.org/wiki/10_March\n",
        "1     13           https://simple.wikipedia.org/wiki/1791\n",
        "2     30   https://simple.wikipedia.org/wiki/24_September\n",
        "3     30        https://simple.wikipedia.org/wiki/2_March\n",
        "4     30       https://simple.wikipedia.org/wiki/April_19\n",
        "5    443   https://simple.wikipedia.org/wiki/Cooper_Creek\n",
        "6     35   https://simple.wikipedia.org/wiki/Gan_language\n",
        "7     30         https://simple.wikipedia.org/wiki/June_6\n",
        "8     34  https://simple.wikipedia.org/wiki/Masally_Rayon\n",
        "9     30          https://simple.wikipedia.org/wiki/May_8\n",
        "10    43  https://simple.wikipedia.org/wiki/Saint_Matthew"
       ]
      }
     ],
     "prompt_number": 154
    },
    {
     "cell_type": "heading",
     "level": 2,
     "metadata": {},
     "source": [
      "\u0412\u044b\u0432\u043e\u0434\u044b"
     ]
    },
    {
     "cell_type": "markdown",
     "metadata": {},
     "source": [
      "  * \u0421\u0440\u0430\u0437\u0443 \u0437\u0430\u043c\u0435\u0447\u0443, \u0447\u0442\u043e \u044f \u0441\u0442\u0430\u0432\u0438\u043b \u0446\u0435\u043b\u044c\u044e \u044d\u0442\u043e\u0439 \u0440\u0430\u0431\u043e\u0442\u044b \u0441\u0434\u0435\u043b\u0430\u0442\u044c \u0447\u0442\u043e-\u0442\u043e \u0438\u043d\u0430\u0447\u0435 \u0447\u0435\u043c \u0434\u0440\u0443\u0433\u0438\u0435, \u0438 \u043d\u0435 \u043e\u0431\u044f\u0437\u0430\u0442\u0435\u043b\u044c\u043d\u043e \u0445\u043e\u0440\u043e\u0448\u043e \u0438\u043b\u0438 \u043e\u043f\u0442\u0438\u043c\u0430\u043b\u044c\u043d\u043e. \u041f\u0440\u043e\u0441\u0442\u043e \u0434\u043b\u044f \u0438\u043d\u0442\u0435\u0440\u0435\u0441\u0430, \u043f\u043e\u0441\u043c\u043e\u0442\u0440\u0435\u0442\u044c, \u0441\u0440\u0430\u0432\u043d\u0438\u0442\u044c \u0441 \u0434\u0440\u0443\u0433\u0438\u043c\u0438, \u0431\u043e\u043b\u0435\u0435 \u0432\u043c\u0435\u043d\u044f\u0435\u043c\u044b\u043c\u0438 \u0440\u0435\u0448\u0435\u043d\u0438\u044f\u043c\u0438 (\u0430 \u043e\u043d\u0438, \u0431\u0435\u0437\u0443\u0441\u043b\u043e\u0432\u043d\u043e, \u0431\u0443\u0434\u0443\u0442!), \u043d\u0430\u0441\u043a\u043e\u043b\u044c\u043a\u043e \u0432\u0441\u0435 \u043f\u043b\u043e\u0445\u043e, \u0435\u0441\u043b\u0438, \u043d\u0430\u043f\u0440\u0438\u043c\u0435\u0440, \u043d\u0430\u0447\u0430\u0442\u044c \u043a\u043b\u0435\u0438\u0442\u044c \u0432\u0441\u0435 \u043f\u043e\u0434\u0440\u044f\u0434 :)\n",
      "  * \u041f\u0435\u0440\u0432\u043e\u0435 \u0437\u0430\u043c\u0435\u0447\u0430\u043d\u0438\u0435 \u0431\u0443\u0434\u0435\u0442 \u043e \u0442\u043e\u043c, \u0447\u0442\u043e, \u0432\u043e\u0437\u043c\u043e\u0436\u043d\u043e, \u0441\u0442\u043e\u0438\u043b\u043e \"\u0441\u0438\u043c\u0445\u0435\u0448\u0438\u0440\u043e\u0432\u0430\u0442\u044c\" \u0438\u043d\u0430\u0447\u0435: \u0432 \u0434\u0430\u043d\u043d\u043e\u043c \u0440\u0435\u0448\u0435\u043d\u0438\u0438 \u0441\u0438\u043c\u0445\u0435\u0448\u0438 \u0441\u0442\u0440\u043e\u0438\u043b\u0438\u0441\u044c \u043d\u0430 \u043e\u0441\u043d\u043e\u0432\u0435 \u043f\u0440\u0435\u0434\u0441\u0442\u0430\u0432\u043b\u0435\u043d\u0438\u044f \u0434\u043e\u043a\u0443\u043c\u0435\u043d\u0442\u0430 \u043a\u0430\u043a \u043c\u0435\u0448\u043a\u0430 \u0441\u043b\u043e\u0432, \u0442.\u0435. \u043d\u0435 \u0443\u0447\u0438\u0442\u044b\u0432\u0430\u043b\u043e\u0441\u044c \u0432\u0437\u0430\u0438\u043c\u043d\u043e\u0435 \u0440\u0430\u0441\u043f\u043e\u043b\u043e\u0436\u0435\u043d\u0438\u0435 \u0441\u043b\u043e\u0432, \u043f\u0443\u043d\u043a\u0442\u0443\u0430\u0446\u0438\u044f (\u0435\u0441\u043b\u0438 \u043d\u0443\u0436\u043d\u0430) \u0438 \u0442.\u043f. \u0414\u043b\u044f \u044d\u0442\u043e\u0433\u043e \u043e\u0442\u043b\u0438\u0447\u043d\u043e \u043f\u043e\u0434\u0445\u043e\u0434\u044f\u0442 \u0448\u0438\u043d\u0433\u043b\u044b \u0441 \u043d\u0435\u0431\u043e\u043b\u044c\u0448\u0438\u043c \u043e\u043a\u043d\u043e\u043c \u0432 3-4 \u0441\u0438\u043c\u0432\u043e\u043b\u0430, \u043d\u043e \u044d\u0442\u043e \u0440\u0435\u0448\u0435\u043d\u0438\u0435 \u043f\u0440\u0438\u0432\u043e\u0434\u0438\u0442\u044c \u0437\u0434\u0435\u0441\u044c \u044f \u043d\u0435 \u0441\u0442\u0430\u043b, \u043f\u043e\u0441\u043a\u043e\u043b\u044c\u043a\u0443 \u0438\u043c\u0435\u0435\u0442\u0441\u044f\n",
      "  * \u0432\u0442\u043e\u0440\u043e\u0435 \u0437\u0430\u043c\u0435\u0447\u0430\u043d\u0438\u0435: \u0431\u043e\u0440 \u0434\u043e\u0432\u043e\u043b\u044c\u043d\u043e \u0448\u0443\u0441\u0442\u0440\u043e \u043e\u0442\u0440\u0430\u0431\u043e\u0442\u0430\u043b \u043f\u0440\u0438 n = 5, \u0437\u0430 \u043d\u0435\u0441\u043a\u043e\u043b\u044c\u043a\u043e \u043c\u0438\u043d\u0443\u0442, \u043f\u0440\u0438 n = 10 \u044d\u0442\u043e \u0443\u0436\u0435 \u0437\u0430\u043d\u044f\u043b\u043e \u043d\u0435\u0441\u043a\u043e\u043b\u044c\u043a\u043e \u0447\u0430\u0441\u043e\u0432, \u0430 \u043f\u0440\u0438 n = 15 \u0441\u0447\u0438\u0442\u0430\u043b\u043e\u0441\u044c \u0443\u0436\u0435 \u0446\u0435\u043b\u044b\u0435 \u0441\u0443\u0442\u043a\u0438. \u0418\u043d\u0442\u0440\u0435\u0441\u043d\u043e, \u0435\u0441\u043b\u0438 \u043f\u043e\u043b\u043e\u0436\u0438\u0442\u044c n = 20, \u0441\u0447\u0435\u0442 \u0432\u0440\u0435\u043c\u0435\u043d\u0438 \u043f\u043e\u0448\u0435\u043b \u0431\u044b \u043d\u0430 \u043d\u0435\u0434\u0435\u043b\u0438? \u041e\u0442\u0441\u044e\u0434\u0430 \u043c\u043e\u0436\u043d\u043e \u0441\u0434\u0435\u043b\u0430\u0442\u044c \u0432\u044b\u0432\u043e\u0434, \u0447\u0442\u043e \u0431\u043e\u0440 \u0434\u043e\u043f\u0443\u0441\u0442\u0438\u043c\u043e \u0438\u0441\u043f\u043e\u043b\u044c\u0437\u043e\u0432\u0430\u0442\u044c \u0442\u043e\u043b\u044c\u043a\u043e \u043f\u0440\u0438 \u0434\u043e\u0441\u0442\u0430\u0442\u043e\u0447\u043d\u043e \u043d\u0438\u0437\u043a\u043e\u043c \u043f\u043e\u0440\u043e\u0433\u0435 \u043e\u0448\u0438\u0431\u043a\u0438 \u0425\u0435\u043c\u043c\u0438\u043d\u0433\u0430, \u0438, \u043d\u0430\u0441\u043a\u043e\u043b\u044c\u043a\u043e \u044f \u043f\u043e\u043d\u0438\u043c\u0430\u044e, \u0432 \u0436\u0438\u0437\u043d\u0438 \u043e\u0431\u044b\u0447\u043d\u043e \u043f\u043e\u043b\u044c\u0437\u0443\u044e\u0442\u0441\u044f \u0440\u0430\u0441\u0441\u0442\u043e\u044f\u043d\u0438\u044f\u043c\u0438 \u043d\u0435 \u0432\u044b\u0448\u0435 n = 5, \u043f\u043e\u044d\u0442\u043e\u043c\u0443 \u0431\u043e\u0440 \u043a\u0430\u0436\u0435\u0442\u0441\u044f \u0432\u043f\u043e\u043b\u043d\u0435 \u0436\u0438\u0437\u043d\u0435\u043d\u043d\u044b\u043c \u0440\u0435\u0448\u0435\u043d\u0438\u0435\u043c. \u041f\u043e\u0441\u043a\u043e\u043b\u044c\u043a\u0443 \u0442\u0430\u043a \u0434\u043e\u043b\u0433\u043e \u0441\u0447\u0438\u0442\u0430\u043b\u043e\u0441\u044c, \u0438 \u0432\u0440\u0435\u043c\u0435\u043d\u0438 \u0443\u0436\u0435 \u0441\u043e\u0432\u0441\u0435\u043c \u043d\u0435 \u043e\u0441\u0442\u0430\u043b\u043e\u0441\u044c, \u044f \u043d\u0435 \u0441\u0442\u0430\u043b \u043f\u0440\u043e\u0431\u043e\u0432\u0430\u0442\u044c \u0445\u0435\u0448\u0438\u0440\u043e\u0432\u0430\u043d\u0438\u0435 \u0441 \u0438\u0441\u043f\u043e\u043b\u044c\u0437\u043e\u0432\u0430\u043d\u0438\u0435\u043c \u0448\u0438\u043d\u0433\u043b\u043e\u0432.\n",
      "  * \u0421\u0442\u043e\u0438\u0442\u044c \u0437\u0430\u043c\u0435\u0442\u0438\u0442\u044c, \u0447\u0442\u043e \u043a\u043b\u0430\u0441\u0442\u0435\u0440\u0438\u0437\u0430\u0446\u0438\u044e \u043d\u0430\u043f\u0438\u0441\u0430\u043b \u044f \u0434\u043e\u0432\u043e\u043b\u044c\u043d\u043e \u043d\u0435\u0431\u0440\u0435\u0436\u043d\u043e, \u0442\u0430\u043c \u0431\u044b\u043b\u043e \u0447\u0442\u043e \u043e\u043f\u0442\u0438\u043c\u0438\u0437\u0438\u0440\u043e\u0432\u0430\u0442\u044c, \u043d\u043e \u044d\u0442\u043e \u044f \u0443\u0436\u0435 \u043f\u043e\u043d\u044f\u043b \u043a\u043e\u0433\u0434\u0430 \u0437\u0430\u043f\u0443\u0441\u0442\u0438\u043b \u0441\u0447\u0438\u0442\u0430\u0442\u044c\u0441\u044f.\n",
      "  * \u0412 \u0446\u0435\u043b\u043e\u043c, \u0442\u0430\u043a\u0430\u044f \u0431\u0435\u0437\u0434\u0443\u043c\u043d\u0430\u044f \u0432\u0441\u0435\u043a\u043b\u0435\u044e\u0449\u0430\u044f \u043a\u043b\u0430\u0441\u0442\u0435\u0440\u0438\u0437\u0430\u0446\u0438\u044f \u043d\u0435 \u0442\u0430\u043a \u0443\u0436 \u043f\u043b\u043e\u0445\u043e \u0441\u0435\u0431\u044f \u043f\u043e\u043a\u0430\u0437\u0430\u043b\u0430. \u0412 \u0442\u043e\u043c \u043f\u043b\u0430\u043d\u0435, \u0447\u0442\u043e \u044f \u0434\u0443\u043c\u0430\u043b, \u0447\u0442\u043e \u0443\u0436\u0435 \u043f\u0440\u0438 \u0434\u043e\u0432\u043e\u043b\u044c\u043d\u043e \u043c\u0430\u043b\u0435\u043d\u044c\u043a\u0438\u0445 n \u0432\u0441\u0435 \u043f\u043e\u043a\u043b\u0435\u0438\u0442\u0441\u044f, \u0430\u043d \u043d\u0435\u0442! \u0421\u043e\u0434\u0435\u0440\u0436\u0438\u043c\u043e\u0435 \u043a\u043b\u0430\u0441\u0442\u0435\u0440\u043e\u0432 \u0432\u044b\u0433\u043b\u044f\u0434\u0438\u0442 \u043d\u0435\u043f\u043b\u043e\u0445\u043e, \u043d\u043e \u0432 \u043a\u0430\u0447\u0435\u0441\u0442\u0432\u0435 \u043f\u043e\u0431\u043e\u0447\u043a\u0438 \u043c\u044b \u0432\u0441\u0435 \u0436\u0435 \u043f\u043e\u043b\u0443\u0447\u0438\u043b\u0438 \u0442\u0430\u043a\u0438\u0435 \u0441\u043b\u0443\u0447\u0430\u0438 \u043a\u0430\u043a, \u043d\u0430\u043f\u0440\u0438\u043c\u0435\u0440, https://simple.wikipedia.org/wiki/Cooper_Creek \u0440\u0430\u0437\u043c\u0435\u0440\u043e\u043c 443 \u043f\u043e\u043f\u0430\u043b \u0432 \u043e\u0434\u0438\u043d \u043a\u043b\u0430\u0441\u0442\u0435\u0440 \u0441 https://simple.wikipedia.org/wiki/1791 \u0440\u0430\u0437\u043c\u0435\u0440\u043e\u043c 13.\n",
      "  * \u0418, \u043d\u0430\u043a\u043e\u043d\u0435\u0446, \u043f\u043e \u043f\u043e\u0432\u043e\u0434\u0443 \u0440\u0430\u0441\u043f\u0440\u0435\u0434\u0435\u043b\u0435\u043d\u0438\u044f \u0440\u0430\u0441\u0441\u0442\u043e\u044f\u043d\u0438\u0439 \u043c\u0435\u0436\u0434\u0443 \u0441\u0438\u043c\u0445\u0435\u0448\u0430\u043c\u0438: \u043f\u043e\u043b\u0443\u0447\u0430\u0435\u0442\u0441\u044f \u0413\u0430\u0443\u0441\u0441 \u0441 \u043f\u0438\u043a\u043e\u043c \u0432 \u0440\u0430\u0439\u043e\u043d\u0435 30, \u0447\u0442\u043e \u0432\u043f\u043e\u043b\u043d\u0435 \u043b\u043e\u0433\u0438\u0447\u043d\u043e, \u0442.\u043a. \u0445\u0435\u0448\u0438 64 \u0431\u0438\u0442\u043d\u044b\u0435 \u0438, \u043f\u043e\u044d\u0442\u043e\u043c\u0443, \u0432 \u0441\u0440\u0435\u0434\u043d\u0435\u043c \u0440\u0430\u0437\u043b\u0438\u0447\u0430\u044e\u0442\u0441\u044f \u0432 \u043f\u043e\u043b\u043e\u0432\u0438\u043d\u0435 \u0431\u0438\u0442\u043e\u0432. \u0415\u0434\u0438\u043d\u0441\u0442\u0432\u0435\u043d\u043d\u0430\u044f \u0441\u0442\u0440\u0430\u043d\u043d\u043e\u0441\u0442\u044c - \u043f\u0438\u043a \u0432 \u0440\u0430\u0439\u043e\u043d\u0435 35. \u041f\u0440\u0438\u0447\u0435\u043c \u043e\u043d \u043f\u0440\u043e\u044f\u0432\u0438\u043b\u0441\u044f \u043a\u043e\u0433\u0434\u0430 \u044d\u0442\u043e \u0434\u0435\u043b\u043e \u043f\u043e\u0434\u0441\u0447\u0438\u0442\u044b\u0432\u0430\u043b\u043e\u0441\u044c \u0432 \u0442\u0435\u0447\u0435\u043d\u0438\u0435 \u0447\u0430\u0441\u0430, \u043a\u043e\u0433\u0434\u0430 \u0436\u0435 \u044f \u043f\u0440\u043e\u0431\u043d\u043e \u0437\u0430\u043f\u0443\u0441\u043a\u0430\u043b \u043c\u0438\u043d\u0443\u0442\u043d\u044b\u0439 \u0441\u0447\u0435\u0442, \u043a\u0430\u0440\u0442\u0438\u043d\u0430 \u0431\u044b\u043b\u0430 \u0442\u0430\u043a\u0430\u044f \u0436\u0435, \u0442\u043e\u043b\u044c\u043a\u043e \u0431\u043e\u043b\u0435\u0435 \u0433\u043b\u0430\u0434\u043a\u0430\u044f, \u0431\u0435\u0437 \u0441\u0442\u0440\u0430\u043d\u043d\u043e\u0433\u043e \u043f\u0438\u043a\u0430. \u0412\u043e\u0437\u043c\u043e\u0436\u043d\u043e \u044d\u0442\u043e \u043d\u0435\u043a\u043e\u0442\u043e\u0440\u0430\u044f \u043e\u0441\u043e\u0431\u0435\u043d\u043d\u043e\u0441\u0442\u044c \u0441\u043e\u0431\u0440\u0430\u043d\u043d\u044b\u0445 \u0434\u043e\u043a\u0443\u043c\u0435\u043d\u0442\u043e\u0432 \u0441 \u0432\u0438\u043a\u0438\u043f\u0435\u0434\u0438\u0438, \u043d\u0438\u043a\u0430\u043a\u0438\u0445 \u0431\u043e\u043b\u0435\u0435-\u043c\u0435\u043d\u0435\u0435 \u043f\u0440\u0430\u0432\u0434\u043e\u043f\u043e\u0434\u043e\u0431\u043d\u044b\u0445 \u043e\u0431\u044a\u044f\u0441\u043d\u0435\u043d\u0438\u0439 \u043c\u043d\u0435 \u0432\u044b\u0434\u0432\u0438\u043d\u0443\u0442\u044c \u043d\u0435 \u0443\u0434\u0430\u043b\u043e\u0441\u044c."
     ]
    }
   ],
   "metadata": {}
  }
 ]
}